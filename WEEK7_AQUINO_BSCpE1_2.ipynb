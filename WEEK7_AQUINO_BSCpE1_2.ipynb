{
  "nbformat": 4,
  "nbformat_minor": 0,
  "metadata": {
    "colab": {
      "name": "WEEK7_AQUINO_BSCpE1-2.ipynb",
      "provenance": [],
      "authorship_tag": "ABX9TyMkTCmsTjED193O4IhhIY06",
      "include_colab_link": true
    },
    "kernelspec": {
      "name": "python3",
      "display_name": "Python 3"
    },
    "language_info": {
      "name": "python"
    }
  },
  "cells": [
    {
      "cell_type": "markdown",
      "metadata": {
        "id": "view-in-github",
        "colab_type": "text"
      },
      "source": [
        "<a href=\"https://colab.research.google.com/github/JHORIZ-RODEL-AQUINO/CPEN21A_AQUINO_BSCpE1-2/blob/main/WEEK7_AQUINO_BSCpE1_2.ipynb\" target=\"_parent\"><img src=\"https://colab.research.google.com/assets/colab-badge.svg\" alt=\"Open In Colab\"/></a>"
      ]
    },
    {
      "cell_type": "markdown",
      "metadata": {
        "id": "JH_xvigIEiSe"
      },
      "source": [
        "### Python Indentation"
      ]
    },
    {
      "cell_type": "code",
      "metadata": {
        "colab": {
          "base_uri": "https://localhost:8080/"
        },
        "id": "NbKfPTj-FB3c",
        "outputId": "7a4db503-3a82-43aa-8138-78366bf25a5d"
      },
      "source": [
        "if 10 > 5:\n",
        "  print(\"Ten is greater than five!\")"
      ],
      "execution_count": 4,
      "outputs": [
        {
          "output_type": "stream",
          "name": "stdout",
          "text": [
            "Five is greater than two!\n"
          ]
        }
      ]
    },
    {
      "cell_type": "markdown",
      "metadata": {
        "id": "UZRtPO4SFYyd"
      },
      "source": [
        "### Python Comments"
      ]
    },
    {
      "cell_type": "code",
      "metadata": {
        "id": "zGo3azOTFlrM"
      },
      "source": [
        "#This is a comment"
      ],
      "execution_count": 5,
      "outputs": []
    },
    {
      "cell_type": "markdown",
      "metadata": {
        "id": "AKYgJwpwHUne"
      },
      "source": [
        "### Variable Naming Convention"
      ]
    },
    {
      "cell_type": "code",
      "metadata": {
        "id": "Rh-xPxNMH95z"
      },
      "source": [
        "#RULES FOR NAMING PYTHON VARIABLE\n",
        "  #it must start with a letter or the underscore character\n",
        "  #it cannot start with a number\n",
        "  #it can only contain alpha-numeric characters and underscores (A-z, 0-9, and _ )\n",
        "  #it is case-sensitive (myVar, myvar, MYVAR, mYVaR, Myvar are all different variables)"
      ],
      "execution_count": null,
      "outputs": []
    },
    {
      "cell_type": "markdown",
      "metadata": {
        "id": "Og-b76qLGSo_"
      },
      "source": [
        "### Storing Data Values in Variables"
      ]
    },
    {
      "cell_type": "code",
      "metadata": {
        "colab": {
          "base_uri": "https://localhost:8080/"
        },
        "id": "j5pMmtR-GlDj",
        "outputId": "3485119b-8760-4c10-9274-4d6545cd5472"
      },
      "source": [
        "x = 1\n",
        "y = 2\n",
        "z = 3\n",
        "my_Age = \"19\"\n",
        "favoriteCOLOR = \"RED\"\n",
        "name = \"Jhoriz Rodel\"\n",
        "\n",
        "print(x)\n",
        "print(y)\n",
        "print(z)\n",
        "print(my_Age)\n",
        "print(favoriteCOLOR)\n",
        "print(name)"
      ],
      "execution_count": 63,
      "outputs": [
        {
          "output_type": "stream",
          "name": "stdout",
          "text": [
            "1\n",
            "2\n",
            "3\n",
            "19\n",
            "RED\n",
            "Jhoriz Rodel\n"
          ]
        }
      ]
    },
    {
      "cell_type": "markdown",
      "metadata": {
        "id": "AXtt2q76JD7M"
      },
      "source": [
        "### Multiple Variables"
      ]
    },
    {
      "cell_type": "code",
      "metadata": {
        "colab": {
          "base_uri": "https://localhost:8080/"
        },
        "id": "jHKmHKCAJrM-",
        "outputId": "129e44b9-6af6-41bc-c21c-99661f91c94a"
      },
      "source": [
        "x,y,z=1,2,3\n",
        "print(x)\n",
        "print(y)\n",
        "print(z)"
      ],
      "execution_count": 65,
      "outputs": [
        {
          "output_type": "stream",
          "name": "stdout",
          "text": [
            "1\n",
            "2\n",
            "3\n"
          ]
        }
      ]
    },
    {
      "cell_type": "code",
      "metadata": {
        "colab": {
          "base_uri": "https://localhost:8080/"
        },
        "id": "-zSHXIMsJ345",
        "outputId": "a29654f9-0a19-4c9b-8da5-31fa216ea738"
      },
      "source": [
        "a,b,c=\"two\",\"four\",\"six\"\n",
        "print(a)\n",
        "print(b)\n",
        "print(c)"
      ],
      "execution_count": 50,
      "outputs": [
        {
          "output_type": "stream",
          "name": "stdout",
          "text": [
            "two\n",
            "four\n",
            "six\n"
          ]
        }
      ]
    },
    {
      "cell_type": "markdown",
      "metadata": {
        "id": "bAoUJducMVLT"
      },
      "source": [
        "### Casting"
      ]
    },
    {
      "cell_type": "code",
      "metadata": {
        "colab": {
          "base_uri": "https://localhost:8080/"
        },
        "id": "kTk9FQxYM3_y",
        "outputId": "5e8e458f-831d-4928-862c-a2c198a0ec56"
      },
      "source": [
        "j = \"jhoriz\" #This is a type of string\n",
        "j = int(22)\n",
        "\n",
        "print(j)  #The recent value of the variable will be prioritize, thus it should be the integer 22\n"
      ],
      "execution_count": 51,
      "outputs": [
        {
          "output_type": "stream",
          "name": "stdout",
          "text": [
            "22\n"
          ]
        }
      ]
    },
    {
      "cell_type": "code",
      "metadata": {
        "colab": {
          "base_uri": "https://localhost:8080/"
        },
        "id": "8RYDDgAJN0KB",
        "outputId": "c08fe694-da83-49f9-e949-12bda624a48e"
      },
      "source": [
        "j = float(22)\n",
        "\n",
        "print(j)"
      ],
      "execution_count": 44,
      "outputs": [
        {
          "output_type": "stream",
          "name": "stdout",
          "text": [
            "22.0\n"
          ]
        }
      ]
    },
    {
      "cell_type": "markdown",
      "metadata": {
        "id": "Rb1CeLyzOW7A"
      },
      "source": [
        "### Data Type Function"
      ]
    },
    {
      "cell_type": "code",
      "metadata": {
        "colab": {
          "base_uri": "https://localhost:8080/"
        },
        "id": "BofwJvFHOdEO",
        "outputId": "e3fd9ddd-b403-464d-fc2a-5cc2febcc0b8"
      },
      "source": [
        "c = 2\n",
        "p = \"two\"\n",
        "e = 2.0\n",
        "\n",
        "print(type(c))\n",
        "print(type(p))\n",
        "print(type(e))"
      ],
      "execution_count": 53,
      "outputs": [
        {
          "output_type": "stream",
          "name": "stdout",
          "text": [
            "<class 'int'>\n",
            "<class 'str'>\n",
            "<class 'float'>\n"
          ]
        }
      ]
    },
    {
      "cell_type": "markdown",
      "metadata": {
        "id": "APBGaMUmO65c"
      },
      "source": [
        "### String Variables"
      ]
    },
    {
      "cell_type": "code",
      "metadata": {
        "id": "q5xQejfoQGt-"
      },
      "source": [
        "#Note: Both Single and Double Quoted String are correct "
      ],
      "execution_count": null,
      "outputs": []
    },
    {
      "cell_type": "code",
      "metadata": {
        "colab": {
          "base_uri": "https://localhost:8080/"
        },
        "id": "fKJ7hFl4PekJ",
        "outputId": "4f2405ad-4a6c-4b09-a7f4-9f6c90a22015"
      },
      "source": [
        "#Double Quoted\n",
        "g = \"Rodel\"\n",
        "\n",
        "print(g)"
      ],
      "execution_count": 54,
      "outputs": [
        {
          "output_type": "stream",
          "name": "stdout",
          "text": [
            "Rodel\n"
          ]
        }
      ]
    },
    {
      "cell_type": "code",
      "metadata": {
        "colab": {
          "base_uri": "https://localhost:8080/"
        },
        "id": "dnGepTf_P__6",
        "outputId": "d31e8747-6ffc-421a-e30e-000be90396de"
      },
      "source": [
        "#Single Quoted\n",
        "g = 'Rodel'\n",
        "\n",
        "print (g)"
      ],
      "execution_count": 55,
      "outputs": [
        {
          "output_type": "stream",
          "name": "stdout",
          "text": [
            "Rodel\n"
          ]
        }
      ]
    },
    {
      "cell_type": "markdown",
      "metadata": {
        "id": "Lin5HXxCQXBe"
      },
      "source": [
        "### One Value to Multiple Variables"
      ]
    },
    {
      "cell_type": "code",
      "metadata": {
        "colab": {
          "base_uri": "https://localhost:8080/"
        },
        "id": "Lk4LpmS7QY5_",
        "outputId": "4409d4b6-7f8a-44f8-a7ab-1b7e1823b2bb"
      },
      "source": [
        "m = n = o = \"five\"\n",
        "\n",
        "print(m)  \n",
        "print(n)\n",
        "print(o)"
      ],
      "execution_count": 56,
      "outputs": [
        {
          "output_type": "stream",
          "name": "stdout",
          "text": [
            "five\n",
            "five\n",
            "five\n"
          ]
        }
      ]
    },
    {
      "cell_type": "markdown",
      "metadata": {
        "id": "ID_kmX5rQq0p"
      },
      "source": [
        "### Output Variables"
      ]
    },
    {
      "cell_type": "code",
      "metadata": {
        "colab": {
          "base_uri": "https://localhost:8080/"
        },
        "id": "DW6U9wWNQ2Kh",
        "outputId": "d8e08722-1908-48ec-a072-9860fb2fa60b"
      },
      "source": [
        "my_Age = \"19\"\n",
        "favoriteCOLOR = \"RED\"\n",
        "name = \"Jhoriz Rodel\"\n",
        "\n",
        "print(\"I am \" + name + \", \" + my_Age, \"years old sutdent, and my favorite color is \" + favoriteCOLOR + \".\")"
      ],
      "execution_count": 67,
      "outputs": [
        {
          "output_type": "stream",
          "name": "stdout",
          "text": [
            "I am Jhoriz Rodel, 19 years old sutdent, and my favorite color is RED.\n"
          ]
        }
      ]
    },
    {
      "cell_type": "code",
      "metadata": {
        "colab": {
          "base_uri": "https://localhost:8080/"
        },
        "id": "p2kkFoxKRpjl",
        "outputId": "417599d5-fb46-4bb3-e803-632249eb6ee9"
      },
      "source": [
        "#Other Way\n",
        "a = \"I am Jhoriz Rodel,\"\n",
        "b = \" 19 years old sutdent,\"\n",
        "c = \" and my favorite color is RED.\"\n",
        "d = a + b + c\n",
        "\n",
        "print(d)"
      ],
      "execution_count": 72,
      "outputs": [
        {
          "output_type": "stream",
          "name": "stdout",
          "text": [
            "I am Jhoriz Rodel, 19 years old sutdent, and my favorite color is RED.\n"
          ]
        }
      ]
    },
    {
      "cell_type": "markdown",
      "metadata": {
        "id": "6J--qdUCSVny"
      },
      "source": [
        "### Arithmetic Operations"
      ]
    },
    {
      "cell_type": "code",
      "metadata": {
        "colab": {
          "base_uri": "https://localhost:8080/"
        },
        "id": "sEuu2dPwSf7a",
        "outputId": "ef6d5f2a-257f-4cb7-b0ca-89c5ac753ce6"
      },
      "source": [
        "x = 10\n",
        "y = 7\n",
        "\n",
        "print (x - y)"
      ],
      "execution_count": 77,
      "outputs": [
        {
          "output_type": "stream",
          "name": "stdout",
          "text": [
            "3\n"
          ]
        }
      ]
    },
    {
      "cell_type": "code",
      "metadata": {
        "colab": {
          "base_uri": "https://localhost:8080/"
        },
        "id": "uphCYEmVSpSm",
        "outputId": "e073e44f-b84e-4b91-99dd-9fafa55e8057"
      },
      "source": [
        "x = 10\n",
        "y = 7\n",
        "difference = x - y\n",
        "\n",
        "difference"
      ],
      "execution_count": 76,
      "outputs": [
        {
          "output_type": "execute_result",
          "data": {
            "text/plain": [
              "3"
            ]
          },
          "metadata": {},
          "execution_count": 76
        }
      ]
    },
    {
      "cell_type": "markdown",
      "metadata": {
        "id": "B9GxgvHxS-A8"
      },
      "source": [
        "### Assignment Operators"
      ]
    },
    {
      "cell_type": "code",
      "metadata": {
        "colab": {
          "base_uri": "https://localhost:8080/"
        },
        "id": "bWykyPk3TB7k",
        "outputId": "87de2fc6-e9a2-4e73-c44a-9aed86554ee2"
      },
      "source": [
        "x=5\n",
        "x+=5  #This is the same as x = x + 5, where x = 5, hence x = 5 + 5\n",
        "\n",
        "print(x)"
      ],
      "execution_count": 81,
      "outputs": [
        {
          "output_type": "stream",
          "name": "stdout",
          "text": [
            "10\n"
          ]
        }
      ]
    },
    {
      "cell_type": "code",
      "metadata": {
        "colab": {
          "base_uri": "https://localhost:8080/"
        },
        "id": "3uNYQiMeUMQF",
        "outputId": "a79518a5-4513-4839-e8ce-d1260abe38c2"
      },
      "source": [
        "num1=5\n",
        "num1-=2 #This is the same as num1 = num1 - 2, where num1 = 5, hence num1 = 5 - 2\n",
        "\n",
        "print(num1)"
      ],
      "execution_count": 84,
      "outputs": [
        {
          "output_type": "stream",
          "name": "stdout",
          "text": [
            "3\n"
          ]
        }
      ]
    },
    {
      "cell_type": "markdown",
      "metadata": {
        "id": "e3DR_vQ3UzMs"
      },
      "source": [
        "### Comparison Operators"
      ]
    },
    {
      "cell_type": "code",
      "metadata": {
        "colab": {
          "base_uri": "https://localhost:8080/"
        },
        "id": "2IfjupV4U6Q7",
        "outputId": "96eefd6d-7d2c-4da1-f9cb-d902a39befcf"
      },
      "source": [
        "r = 5\n",
        "t = 15\n",
        "x = 10\n",
        "v = 5\n",
        "\n",
        "print(r>t)\n",
        "print(t>x)\n",
        "print(r==v)"
      ],
      "execution_count": 88,
      "outputs": [
        {
          "output_type": "stream",
          "name": "stdout",
          "text": [
            "False\n",
            "True\n",
            "True\n"
          ]
        }
      ]
    },
    {
      "cell_type": "markdown",
      "metadata": {
        "id": "COAVuuEPVi16"
      },
      "source": [
        "### Logical Operators"
      ]
    },
    {
      "cell_type": "code",
      "metadata": {
        "colab": {
          "base_uri": "https://localhost:8080/"
        },
        "id": "EnL2x4rsVldq",
        "outputId": "68f88cdd-7a40-42da-b834-4a17ed0779a1"
      },
      "source": [
        "r = 5\n",
        "t = 15\n",
        "x = 10\n",
        "v = 5\n",
        "\n",
        "print(r<t and r==v)     #both are true, hence it is TRUE\n",
        "print(t<x and v<x)      #v<x is true, but t<x is false, hence it is FALSE\n",
        "print(t<x or v<x)       #one of them is true, hence it is TRUE\n",
        "print(not(t and r==v))  #since both are true, the output should be reversed, hence it is FALSE"
      ],
      "execution_count": 94,
      "outputs": [
        {
          "output_type": "stream",
          "name": "stdout",
          "text": [
            "True\n",
            "False\n",
            "True\n",
            "False\n"
          ]
        }
      ]
    },
    {
      "cell_type": "markdown",
      "metadata": {
        "id": "EMRjoKsIXOcC"
      },
      "source": [
        "### Identity Operators"
      ]
    },
    {
      "cell_type": "code",
      "metadata": {
        "colab": {
          "base_uri": "https://localhost:8080/"
        },
        "id": "HUPFKQouXZKz",
        "outputId": "f8e50649-a57a-4fd5-d757-a5ad5ddbbeb7"
      },
      "source": [
        "a,b,c=3,6,9\n",
        "\n",
        "print(a is c)       #they are not equal, hence FALSE\n",
        "print(a is not b)   #they are not equal, so a is not b, hence TRUE    "
      ],
      "execution_count": 97,
      "outputs": [
        {
          "output_type": "stream",
          "name": "stdout",
          "text": [
            "False\n",
            "True\n"
          ]
        }
      ]
    }
  ]
}