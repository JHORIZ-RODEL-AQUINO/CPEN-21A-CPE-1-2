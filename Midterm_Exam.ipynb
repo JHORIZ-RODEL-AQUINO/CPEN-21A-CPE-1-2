{
  "nbformat": 4,
  "nbformat_minor": 0,
  "metadata": {
    "colab": {
      "name": "Midterm Exam.ipynb",
      "provenance": [],
      "authorship_tag": "ABX9TyOYkgDQJQQJ5AHQl1ndIpjs",
      "include_colab_link": true
    },
    "kernelspec": {
      "name": "python3",
      "display_name": "Python 3"
    },
    "language_info": {
      "name": "python"
    }
  },
  "cells": [
    {
      "cell_type": "markdown",
      "metadata": {
        "id": "view-in-github",
        "colab_type": "text"
      },
      "source": [
        "<a href=\"https://colab.research.google.com/github/JHORIZ-RODEL-AQUINO/CPEN-21A-CPE-1-2/blob/main/Midterm_Exam.ipynb\" target=\"_parent\"><img src=\"https://colab.research.google.com/assets/colab-badge.svg\" alt=\"Open In Colab\"/></a>"
      ]
    },
    {
      "cell_type": "markdown",
      "metadata": {
        "id": "2kDaeDj4MhUM"
      },
      "source": [
        "### Midterm Exam"
      ]
    },
    {
      "cell_type": "markdown",
      "metadata": {
        "id": "1WUBT40ZBY5k"
      },
      "source": [
        "### Problem Statement 1"
      ]
    },
    {
      "cell_type": "code",
      "metadata": {
        "colab": {
          "base_uri": "https://localhost:8080/"
        },
        "id": "wQkuiM66Bogj",
        "outputId": "523e9e12-320e-4bfc-c3a9-e36b9addd9b5"
      },
      "source": [
        "name = \"Jhoriz Rodel F. Aquino\"\n",
        "std_number = 202106201\n",
        "age = 19\n",
        "birthday = \"July 22, 2002\"\n",
        "address = \"Blk 16 Lot 95 Cedar 3 Lantic Carmona, Cavite\"\n",
        "course = \"BSCpE 1-2\"\n",
        "GWA = 95\n",
        "\n",
        "print(f\"a. Full name: {name}\")\n",
        "print(f\"b. Student Number: {std_number}\")\n",
        "print(f\"c. Age: {age}\")\n",
        "print(f\"d. Birthday: {birthday}\")\n",
        "print(f\"e. Address: {address}\")\n",
        "print(f\"f. Course: {course}\")\n",
        "print(f\"g. Last Sem GWA: {GWA}\")"
      ],
      "execution_count": 4,
      "outputs": [
        {
          "output_type": "stream",
          "name": "stdout",
          "text": [
            "a. Full name: Jhoriz Rodel F. Aquino\n",
            "b. Student Number: 202106201\n",
            "c. Age: 19\n",
            "d. Birthday: July 22, 2002\n",
            "e. Address: Blk 16 Lot 95 Cedar 3 Lantic Carmona, Cavite\n",
            "f. Course: BSCpE 1-2\n",
            "g. Last Sem GWA: 95\n"
          ]
        }
      ]
    },
    {
      "cell_type": "markdown",
      "metadata": {
        "id": "M4T63vmqDZZJ"
      },
      "source": [
        "### Problem Statement 2"
      ]
    },
    {
      "cell_type": "code",
      "metadata": {
        "colab": {
          "base_uri": "https://localhost:8080/"
        },
        "id": "lX2fI-LhDe6a",
        "outputId": "3a6eaa74-38c7-4b25-a215-d66c419ec06e"
      },
      "source": [
        "n = 4\n",
        "answ = \"Y\"\n",
        "\n",
        "a = 2 < n and n < 6\n",
        "b = 2 < n or n == 6\n",
        "c = not(2 < n) or n == 6\n",
        "d = not(n < 6)\n",
        "e = answ == \"Y\" or answ == \"y\"\n",
        "f = answ == \"Y\" and answ == \"y\"\n",
        "g = not(answ == \"y\")\n",
        "h = (2 < n and n == 5 + 1) or answ == \"No\"\n",
        "i = (n == 2 and n == 7) or answ == \"Y\"\n",
        "j = n == 2 and (n == 7 or answ == \"Y\")\n",
        "\n",
        "print(f\"a. {a}\")\n",
        "print(f\"b. {b}\")\n",
        "print(f\"c. {c}\")\n",
        "print(f\"d. {d}\")\n",
        "print(f\"e. {e}\")\n",
        "print(f\"f. {f}\")\n",
        "print(f\"g. {g}\")\n",
        "print(f\"h. {h}\")\n",
        "print(f\"i. {i}\")\n",
        "print(f\"j. {j}\")"
      ],
      "execution_count": 10,
      "outputs": [
        {
          "output_type": "stream",
          "name": "stdout",
          "text": [
            "a. True\n",
            "b. True\n",
            "c. False\n",
            "d. False\n",
            "e. True\n",
            "f. False\n",
            "g. True\n",
            "h. False\n",
            "i. True\n",
            "j. False\n"
          ]
        }
      ]
    },
    {
      "cell_type": "markdown",
      "metadata": {
        "id": "PjMJN2m_IqJz"
      },
      "source": [
        "### Problem Statement 3"
      ]
    },
    {
      "cell_type": "code",
      "metadata": {
        "colab": {
          "base_uri": "https://localhost:8080/"
        },
        "id": "LE56QEevItPD",
        "outputId": "2723a885-185d-4a1e-b2f3-9fdfa498109b"
      },
      "source": [
        "x = 2\n",
        "y = -3\n",
        "w = 7\n",
        "z = -10\n",
        "\n",
        "a = x / y\n",
        "b = w / y / x\n",
        "c = z / y % x\n",
        "d = x % -(y) * w\n",
        "e = x % y\n",
        "f = z % w - y / x * 5 + 5\n",
        "g = 9 - x % (2 + y)\n",
        "h = z // w\n",
        "i = (2 + y) ** 2\n",
        "j = w / x * 2\n",
        "\n",
        "print(f\"a. {a}\")\n",
        "print(f\"b. {b}\")\n",
        "print(f\"c. {c}\")\n",
        "print(f\"d. {d}\")\n",
        "print(f\"e. {e}\")\n",
        "print(f\"f. {f}\")\n",
        "print(f\"g. {g}\")\n",
        "print(f\"h. {h}\")\n",
        "print(f\"i. {i}\")\n",
        "print(f\"j. {j}\")"
      ],
      "execution_count": 17,
      "outputs": [
        {
          "output_type": "stream",
          "name": "stdout",
          "text": [
            "a. -0.6666666666666666\n",
            "b. -1.1666666666666667\n",
            "c. 1.3333333333333335\n",
            "d. 14\n",
            "e. -1\n",
            "f. 16.5\n",
            "g. 9\n",
            "h. -2\n",
            "i. 1\n",
            "j. 7.0\n"
          ]
        }
      ]
    }
  ]
}