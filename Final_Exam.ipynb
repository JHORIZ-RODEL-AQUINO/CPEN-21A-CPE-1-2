{
  "nbformat": 4,
  "nbformat_minor": 0,
  "metadata": {
    "colab": {
      "name": "Final Exam.ipynb",
      "provenance": [],
      "authorship_tag": "ABX9TyOLNoOMcft2rOCffB48jTG3",
      "include_colab_link": true
    },
    "kernelspec": {
      "name": "python3",
      "display_name": "Python 3"
    },
    "language_info": {
      "name": "python"
    }
  },
  "cells": [
    {
      "cell_type": "markdown",
      "metadata": {
        "id": "view-in-github",
        "colab_type": "text"
      },
      "source": [
        "<a href=\"https://colab.research.google.com/github/JHORIZ-RODEL-AQUINO/CPEN-21A-CPE-1-2/blob/main/Final_Exam.ipynb\" target=\"_parent\"><img src=\"https://colab.research.google.com/assets/colab-badge.svg\" alt=\"Open In Colab\"/></a>"
      ]
    },
    {
      "cell_type": "markdown",
      "source": [
        "#Final Exam"
      ],
      "metadata": {
        "id": "3v6-saXkLSH8"
      }
    },
    {
      "cell_type": "markdown",
      "source": [
        "PROBLEM STATEMENT 1"
      ],
      "metadata": {
        "id": "JkALaEBHYKYE"
      }
    },
    {
      "cell_type": "code",
      "source": [
        "num = [-5, -4, -3, -2, -1, 0, 1, 2, 3, 4]  # these are 10 numbers less than 5\n",
        "\n",
        "sum = 0\n",
        "for x in num:\n",
        "  sum += x\n",
        "\n",
        "print(\"The sum of 10 numbers LESS THAN 5 is\", sum)"
      ],
      "metadata": {
        "colab": {
          "base_uri": "https://localhost:8080/"
        },
        "id": "TxNelh28YKwu",
        "outputId": "2f0afeb1-38ec-442c-8f1d-65f201c32de4"
      },
      "execution_count": 5,
      "outputs": [
        {
          "output_type": "stream",
          "name": "stdout",
          "text": [
            "The sum of 10 numbers LESS THAN 5 is -5\n"
          ]
        }
      ]
    },
    {
      "cell_type": "markdown",
      "source": [
        "PROBLEM STATEMENT 2"
      ],
      "metadata": {
        "id": "QqG4srXEQyMd"
      }
    },
    {
      "cell_type": "code",
      "source": [
        "print(\"Please enter five numbers:\")\n",
        "\n",
        "n = 1\n",
        "while n <= 5:\n",
        "    num = int(input(str(n) + \") \"))\n",
        "    if n == 1:\n",
        "        first_num = num\n",
        "    if n == 5:\n",
        "        last_num = num\n",
        "    n += 1\n",
        "\n",
        "sum = first_num + last_num\n",
        "\n",
        "print(\"\\nThe sum of the FIRST and LAST number is\", sum)"
      ],
      "metadata": {
        "colab": {
          "base_uri": "https://localhost:8080/"
        },
        "id": "GbFjj7eGQyw8",
        "outputId": "e1af88ea-7e80-4b1e-a7d9-1b1705588a2b"
      },
      "execution_count": 2,
      "outputs": [
        {
          "output_type": "stream",
          "name": "stdout",
          "text": [
            "Please enter five numbers:\n",
            "1) 68\n",
            "2) 45\n",
            "3) 7\n",
            "4) 104\n",
            "5) 13\n",
            "\n",
            "The sum of the FIRST and LAST number is 81\n"
          ]
        }
      ]
    },
    {
      "cell_type": "markdown",
      "source": [
        "PROBLEM STATEMENT 3"
      ],
      "metadata": {
        "id": "NP46p0HIShlW"
      }
    },
    {
      "cell_type": "code",
      "source": [
        "grade = float(input(\"Please enter your grade: \"))\n",
        "\n",
        "if grade >= 90:\n",
        "  char_grade = \"A\"\n",
        "elif 80 <= grade < 90:\n",
        "  char_grade = \"B\"\n",
        "elif 70 <= grade < 80:\n",
        "  char_grade = \"C\"\n",
        "elif 60 <= grade < 70:\n",
        "  char_grade = \"D\"\n",
        "else:\n",
        "  char_grade = \"F\"\n",
        "\n",
        "print(\"Grade Mark: \" + char_grade)"
      ],
      "metadata": {
        "colab": {
          "base_uri": "https://localhost:8080/"
        },
        "id": "i7j-bsQ8Sh-v",
        "outputId": "2b4f1d34-efef-46ca-fa96-44f02e1e8ffd"
      },
      "execution_count": 7,
      "outputs": [
        {
          "output_type": "stream",
          "name": "stdout",
          "text": [
            "Please enter your grade: 91\n",
            "Grade Mark: A\n"
          ]
        }
      ]
    }
  ]
}